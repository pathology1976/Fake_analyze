{
 "cells": [
  {
   "cell_type": "code",
   "execution_count": 2,
   "metadata": {},
   "outputs": [
    {
     "ename": "ValueError",
     "evalue": "invalid literal for int() with base 10: ''",
     "output_type": "error",
     "traceback": [
      "\u001b[1;31m---------------------------------------------------------------------------\u001b[0m",
      "\u001b[1;31mValueError\u001b[0m                                Traceback (most recent call last)",
      "\u001b[1;32mUntitled-1.ipynb Ячейка 1\u001b[0m line \u001b[0;36m7\n\u001b[0;32m      <a href='vscode-notebook-cell:Untitled-1.ipynb?jupyter-notebook#W0sdW50aXRsZWQ%3D?line=3'>4</a>\u001b[0m \u001b[39mimport\u001b[39;00m \u001b[39mpandas\u001b[39;00m \u001b[39mas\u001b[39;00m \u001b[39mpd\u001b[39;00m\n\u001b[0;32m      <a href='vscode-notebook-cell:Untitled-1.ipynb?jupyter-notebook#W0sdW50aXRsZWQ%3D?line=4'>5</a>\u001b[0m \u001b[39mimport\u001b[39;00m \u001b[39mnumpy\u001b[39;00m \u001b[39mas\u001b[39;00m \u001b[39mnp\u001b[39;00m\n\u001b[1;32m----> <a href='vscode-notebook-cell:Untitled-1.ipynb?jupyter-notebook#W0sdW50aXRsZWQ%3D?line=6'>7</a>\u001b[0m num_columns \u001b[39m=\u001b[39m \u001b[39mint\u001b[39;49m(\u001b[39minput\u001b[39;49m(\u001b[39m\"\u001b[39;49m\u001b[39mколичество колонок: \u001b[39;49m\u001b[39m\"\u001b[39;49m))\n\u001b[0;32m      <a href='vscode-notebook-cell:Untitled-1.ipynb?jupyter-notebook#W0sdW50aXRsZWQ%3D?line=7'>8</a>\u001b[0m column_ranges \u001b[39m=\u001b[39m []\n\u001b[0;32m     <a href='vscode-notebook-cell:Untitled-1.ipynb?jupyter-notebook#W0sdW50aXRsZWQ%3D?line=9'>10</a>\u001b[0m \u001b[39mfor\u001b[39;00m i \u001b[39min\u001b[39;00m \u001b[39mrange\u001b[39m(num_columns):\n",
      "\u001b[1;31mValueError\u001b[0m: invalid literal for int() with base 10: ''"
     ]
    }
   ],
   "source": [
    "# Скрипт создает датафрейм. В него надо ввести количество колонок, название для каждой колонки\n",
    "# и размах для рандома. Датафрейм заполнит 60 значений.\n",
    "\n",
    "import pandas as pd\n",
    "import numpy as np\n",
    "\n",
    "num_columns = int(input(\"количество колонок: \"))\n",
    "column_ranges = []\n",
    "\n",
    "for i in range(num_columns):\n",
    "    col_name = input(f\" имя для колонки {i+1}: \")\n",
    "    min_val = float(input(f\"минимальное значение {col_name}: \"))\n",
    "    max_val = float(input(f\"максимальное значение {col_name}: \"))\n",
    "    column_ranges.append((col_name, min_val, max_val))\n",
    "\n",
    "df = pd.DataFrame()\n",
    "\n",
    "for col_name, min_val, max_val in column_ranges:\n",
    "    random_values = np.random.uniform(min_val, max_val, 60)\n",
    "    df[col_name] = random_values\n",
    "\n",
    "# По желанию сформированный датафрейм можно сохранить через пандас, раскоментиров код ниже, но функцию принт\n",
    "# тогда лучше закоментировать\n",
    "\n",
    "#file_path = \"ты_пидор.csv\"\n",
    "#df.to_csv(file_path, index=False) \n",
    "\n",
    "print(df)"
   ]
  },
  {
   "cell_type": "code",
   "execution_count": null,
   "metadata": {},
   "outputs": [],
   "source": []
  }
 ],
 "metadata": {
  "kernelspec": {
   "display_name": "Python 3",
   "language": "python",
   "name": "python3"
  },
  "language_info": {
   "codemirror_mode": {
    "name": "ipython",
    "version": 3
   },
   "file_extension": ".py",
   "mimetype": "text/x-python",
   "name": "python",
   "nbconvert_exporter": "python",
   "pygments_lexer": "ipython3",
   "version": "3.12.0"
  }
 },
 "nbformat": 4,
 "nbformat_minor": 2
}
