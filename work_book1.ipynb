{
 "cells": [
  {
   "cell_type": "code",
   "execution_count": 35,
   "metadata": {},
   "outputs": [],
   "source": [
    "import pandas as pd\n",
    "\n",
    "koshki = pd.read_csv(\"koshki1.csv\", sep=\";\")\n",
    "qua = koshki.quantile([0.25, 0.75])\n",
    "qua = qua.drop(qua.columns[0], axis=1)\n",
    "file_path = \"qua.csv\"\n",
    "qua.to_csv(file_path, index=False) "
   ]
  },
  {
   "cell_type": "code",
   "execution_count": 57,
   "metadata": {},
   "outputs": [],
   "source": [
    "import pandas as pd\n",
    "import numpy as np\n",
    "\n",
    "qua = pd.read_csv(\"qua.csv\") \"\"\"датасет квартили\"\"\"\n",
    "qua1 = qua.transpose() #перевернутый датасет квартили\n",
    "num_columns = len(qua.columns)\n",
    "column_ranges = []\n",
    "\n",
    "def new_func():\n",
    "    return 1\n",
    "\n",
    "for i in range(num_columns):\n",
    "    col_name = i+1 \n",
    "    min_val = qua1.iloc[:, 0]\n",
    "    max_val = qua1.iloc[:, 1]\n",
    "    column_ranges.append((col_name, min_val, max_val))\n",
    "\n",
    "df = pd.DataFrame()\n",
    "\n",
    "for col_name, min_val, max_val in column_ranges:\n",
    "    random_values = np.random.uniform(min_val, max_val, 24) # почему- просит ставить 24 а не 20 или меньше\n",
    "    df[col_name] = random_values\n",
    "\n",
    "file_path = \"ты_пидор3.csv\" #меняй номера пидоров и будет каждый раз новый анализ\n",
    "df.to_csv(file_path, index=False) "
   ]
  },
  {
   "cell_type": "code",
   "execution_count": null,
   "metadata": {},
   "outputs": [],
   "source": []
  }
 ],
 "metadata": {
  "kernelspec": {
   "display_name": "Python 3",
   "language": "python",
   "name": "python3"
  },
  "language_info": {
   "codemirror_mode": {
    "name": "ipython",
    "version": 3
   },
   "file_extension": ".py",
   "mimetype": "text/x-python",
   "name": "python",
   "nbconvert_exporter": "python",
   "pygments_lexer": "ipython3",
   "version": "3.12.0"
  }
 },
 "nbformat": 4,
 "nbformat_minor": 2
}
